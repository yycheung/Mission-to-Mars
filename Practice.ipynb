{
 "cells": [
  {
   "cell_type": "code",
   "execution_count": 1,
   "id": "3c8a7779",
   "metadata": {},
   "outputs": [],
   "source": [
    "from splinter import Browser\n",
    "from bs4 import BeautifulSoup as bs\n",
    "from webdriver_manager.chrome import ChromeDriverManager"
   ]
  },
  {
   "cell_type": "code",
   "execution_count": 2,
   "id": "bfbcafab",
   "metadata": {},
   "outputs": [
    {
     "name": "stderr",
     "output_type": "stream",
     "text": [
      "\n",
      "\n",
      "====== WebDriver manager ======\n",
      "Current google-chrome version is 100.0.4896\n",
      "Get LATEST chromedriver version for 100.0.4896 google-chrome\n",
      "Driver [/Users/yycheung/.wdm/drivers/chromedriver/mac64/100.0.4896.60/chromedriver] found in cache\n"
     ]
    }
   ],
   "source": [
    "# Set up Splinter\n",
    "executable_path = {'executable_path': ChromeDriverManager().install()}\n",
    "browser = Browser('chrome', **executable_path, headless=False)"
   ]
  },
  {
   "cell_type": "code",
   "execution_count": 3,
   "id": "6cebb762",
   "metadata": {},
   "outputs": [],
   "source": [
    "# Visit the Quotes to Scrape site\n",
    "url = 'http://quotes.toscrape.com/'\n",
    "browser.visit(url)"
   ]
  },
  {
   "cell_type": "code",
   "execution_count": 4,
   "id": "e4cbb2fe",
   "metadata": {},
   "outputs": [],
   "source": [
    "# Parse the HTML\n",
    "html = browser.html\n",
    "html_soup = bs(html, 'html.parser')"
   ]
  },
  {
   "cell_type": "code",
   "execution_count": 5,
   "id": "7922df6d",
   "metadata": {},
   "outputs": [
    {
     "data": {
      "text/plain": [
       "'Top Ten tags'"
      ]
     },
     "execution_count": 5,
     "metadata": {},
     "output_type": "execute_result"
    }
   ],
   "source": [
    "# Scrape the Title\n",
    "title = html_soup.find('h2').text\n",
    "title"
   ]
  },
  {
   "cell_type": "code",
   "execution_count": 6,
   "id": "bfbfbb3d",
   "metadata": {},
   "outputs": [
    {
     "name": "stdout",
     "output_type": "stream",
     "text": [
      "love\n",
      "inspirational\n",
      "life\n",
      "humor\n",
      "books\n",
      "reading\n",
      "friendship\n",
      "friends\n",
      "truth\n",
      "simile\n"
     ]
    }
   ],
   "source": [
    "# Scrape the top ten tags\n",
    "tag_box = html_soup.find('div', class_='tags-box')\n",
    "# tag_box\n",
    "tags = tag_box.find_all('a', class_='tag')\n",
    "\n",
    "for tag in tags:\n",
    "    word = tag.text\n",
    "    print(word)\n",
    "    \n",
    "browser.quit()"
   ]
  },
  {
   "cell_type": "markdown",
   "id": "43d4b0c0",
   "metadata": {},
   "source": [
    "# Scrape Across Pages"
   ]
  },
  {
   "cell_type": "code",
   "execution_count": 7,
   "id": "5c302aa4",
   "metadata": {},
   "outputs": [],
   "source": [
    "#url = 'http://quotes.toscrape.com/'\n",
    "#browser.visit(url)"
   ]
  },
  {
   "cell_type": "code",
   "execution_count": 8,
   "id": "5eaf1eb0",
   "metadata": {},
   "outputs": [],
   "source": [
    "# for x in range(1, 6):\n",
    "#    html = browser.html\n",
    "#    quote_soup = soup(html, 'html.parser')\n",
    "#    quotes = quote_soup.find_all('span', class_='text')\n",
    "#    for quote in quotes:\n",
    "#       print('page:', x, '----------')\n",
    "#       print(quote.text)\n",
    "#    browser.links.find_by_partial_text('Next').click()\n",
    "\n",
    "# browser.quit()"
   ]
  },
  {
   "cell_type": "code",
   "execution_count": 9,
   "id": "0e16cb47",
   "metadata": {},
   "outputs": [],
   "source": [
    "# Scraping the book URL list on the first page.\n",
    "# http://books.toscrape.com/"
   ]
  },
  {
   "cell_type": "code",
   "execution_count": 11,
   "id": "45e6931c",
   "metadata": {},
   "outputs": [
    {
     "name": "stderr",
     "output_type": "stream",
     "text": [
      "\n",
      "\n",
      "====== WebDriver manager ======\n",
      "Current google-chrome version is 100.0.4896\n",
      "Get LATEST chromedriver version for 100.0.4896 google-chrome\n",
      "Driver [/Users/yycheung/.wdm/drivers/chromedriver/mac64/100.0.4896.60/chromedriver] found in cache\n"
     ]
    }
   ],
   "source": [
    "executable_path = {'executable_path': ChromeDriverManager().install()}\n",
    "browser = Browser('chrome', **executable_path, headless=False)\n",
    "\n",
    "url = 'http://books.toscrape.com/'\n",
    "browser.visit(url)\n",
    "\n",
    "\n",
    "\n",
    "\n"
   ]
  },
  {
   "cell_type": "code",
   "execution_count": 17,
   "id": "bfba5922",
   "metadata": {},
   "outputs": [
    {
     "name": "stdout",
     "output_type": "stream",
     "text": [
      "http://books.toscrape.com/catalogue/a-light-in-the-attic_1000/index.html\n",
      "----------------------------------------------------------------\n",
      "http://books.toscrape.com/catalogue/tipping-the-velvet_999/index.html\n",
      "----------------------------------------------------------------\n",
      "http://books.toscrape.com/catalogue/soumission_998/index.html\n",
      "----------------------------------------------------------------\n",
      "http://books.toscrape.com/catalogue/sharp-objects_997/index.html\n",
      "----------------------------------------------------------------\n",
      "http://books.toscrape.com/catalogue/sapiens-a-brief-history-of-humankind_996/index.html\n",
      "----------------------------------------------------------------\n",
      "http://books.toscrape.com/catalogue/the-requiem-red_995/index.html\n",
      "----------------------------------------------------------------\n",
      "http://books.toscrape.com/catalogue/the-dirty-little-secrets-of-getting-your-dream-job_994/index.html\n",
      "----------------------------------------------------------------\n",
      "http://books.toscrape.com/catalogue/the-coming-woman-a-novel-based-on-the-life-of-the-infamous-feminist-victoria-woodhull_993/index.html\n",
      "----------------------------------------------------------------\n",
      "http://books.toscrape.com/catalogue/the-boys-in-the-boat-nine-americans-and-their-epic-quest-for-gold-at-the-1936-berlin-olympics_992/index.html\n",
      "----------------------------------------------------------------\n",
      "http://books.toscrape.com/catalogue/the-black-maria_991/index.html\n",
      "----------------------------------------------------------------\n",
      "http://books.toscrape.com/catalogue/starving-hearts-triangular-trade-trilogy-1_990/index.html\n",
      "----------------------------------------------------------------\n",
      "http://books.toscrape.com/catalogue/shakespeares-sonnets_989/index.html\n",
      "----------------------------------------------------------------\n",
      "http://books.toscrape.com/catalogue/set-me-free_988/index.html\n",
      "----------------------------------------------------------------\n",
      "http://books.toscrape.com/catalogue/scott-pilgrims-precious-little-life-scott-pilgrim-1_987/index.html\n",
      "----------------------------------------------------------------\n",
      "http://books.toscrape.com/catalogue/rip-it-up-and-start-again_986/index.html\n",
      "----------------------------------------------------------------\n",
      "http://books.toscrape.com/catalogue/our-band-could-be-your-life-scenes-from-the-american-indie-underground-1981-1991_985/index.html\n",
      "----------------------------------------------------------------\n",
      "http://books.toscrape.com/catalogue/olio_984/index.html\n",
      "----------------------------------------------------------------\n",
      "http://books.toscrape.com/catalogue/mesaerion-the-best-science-fiction-stories-1800-1849_983/index.html\n",
      "----------------------------------------------------------------\n",
      "http://books.toscrape.com/catalogue/libertarianism-for-beginners_982/index.html\n",
      "----------------------------------------------------------------\n",
      "http://books.toscrape.com/catalogue/its-only-the-himalayas_981/index.html\n",
      "----------------------------------------------------------------\n"
     ]
    }
   ],
   "source": [
    "html = browser.html\n",
    "soup=bs(html, 'html.parser')\n",
    "\n",
    "results = soup.find_all('article', class_=\"product_pod\")\n",
    "for result in results:\n",
    "    link = url+result.a['href']\n",
    "    print(link)\n",
    "    print('-'*64)"
   ]
  },
  {
   "cell_type": "code",
   "execution_count": null,
   "id": "cc14f733",
   "metadata": {},
   "outputs": [],
   "source": []
  }
 ],
 "metadata": {
  "kernelspec": {
   "display_name": "PythonData",
   "language": "python",
   "name": "pythondata"
  },
  "language_info": {
   "codemirror_mode": {
    "name": "ipython",
    "version": 3
   },
   "file_extension": ".py",
   "mimetype": "text/x-python",
   "name": "python",
   "nbconvert_exporter": "python",
   "pygments_lexer": "ipython3",
   "version": "3.9.7"
  }
 },
 "nbformat": 4,
 "nbformat_minor": 5
}
